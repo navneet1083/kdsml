{
 "cells": [
  {
   "cell_type": "code",
   "execution_count": 2,
   "id": "ad18dd0a-bbc5-47cd-9fd1-132698472e9f",
   "metadata": {},
   "outputs": [],
   "source": [
    "import os\n",
    "\n",
    "os.chdir(\"/Users/navneetsingh/Library/Mobile Documents/com~apple~CloudDocs/Work/GitHub-Repos/personal_repos/BITS/kd-slm-training\")"
   ]
  },
  {
   "cell_type": "code",
   "execution_count": 3,
   "id": "662b0c77-eeb8-4d87-a62b-6fb1c5cc1174",
   "metadata": {},
   "outputs": [
    {
     "name": "stderr",
     "output_type": "stream",
     "text": [
      "/Users/navneetsingh/Softwares/CONDA_ENV/miniconda3/envs/kdsml_mps_python3_11/lib/python3.11/site-packages/tqdm/auto.py:21: TqdmWarning: IProgress not found. Please update jupyter and ipywidgets. See https://ipywidgets.readthedocs.io/en/stable/user_install.html\n",
      "  from .autonotebook import tqdm as notebook_tqdm\n"
     ]
    }
   ],
   "source": [
    "import torch\n",
    "from models.teacher_model import TeacherModel\n",
    "from models.student_model import StudentModel\n",
    "from utils.loss_functions import KnowledgeDistillationLoss\n",
    "from training.trainer import Trainer\n",
    "from training.validator import Validator\n",
    "from evaluation.evaluator import Evaluator\n",
    "from utils.data_loader import DataLoader\n",
    "\n",
    "\n",
    "import matplotlib as plt"
   ]
  },
  {
   "cell_type": "code",
   "execution_count": null,
   "id": "ca935bb2-5846-40da-a43f-c96f519543cd",
   "metadata": {},
   "outputs": [],
   "source": []
  }
 ],
 "metadata": {
  "kernelspec": {
   "display_name": "Python 3 (ipykernel)",
   "language": "python",
   "name": "python3"
  },
  "language_info": {
   "codemirror_mode": {
    "name": "ipython",
    "version": 3
   },
   "file_extension": ".py",
   "mimetype": "text/x-python",
   "name": "python",
   "nbconvert_exporter": "python",
   "pygments_lexer": "ipython3",
   "version": "3.11.11"
  }
 },
 "nbformat": 4,
 "nbformat_minor": 5
}
